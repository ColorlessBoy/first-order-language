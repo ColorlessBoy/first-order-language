{
 "cells": [
  {
   "cell_type": "code",
   "execution_count": 2,
   "metadata": {},
   "outputs": [],
   "source": [
    "import sys\n",
    "sys.path.append('.')\n",
    "sys.path.append('./src')\n",
    "from prop import *\n",
    "from extprop import *\n",
    "from proof import *\n",
    "from theorem import *"
   ]
  },
  {
   "cell_type": "code",
   "execution_count": 10,
   "metadata": {},
   "outputs": [
    {
     "name": "stdout",
     "output_type": "stream",
     "text": [
      "((forall a,(a=>b))=>(a=>b))\n",
      "((a=>b)=>(exists a,(a=>b)))\n",
      "((forall a,(a=>b))=>(exists a,(a=>b)))\n"
     ]
    }
   ],
   "source": [
    "a = VarProp(Variable('a'))\n",
    "b = VarProp(Variable('b'))\n",
    "prop1 = ImplyProp(a, b)\n",
    "proof2 = Axiom4(prop1, a.variable, a.variable)\n",
    "print(proof2.prop)\n",
    "proof3 = ExistentialRule(prop1, a.variable, a.variable).proof\n",
    "print(proof3.prop)\n",
    "proof4 = Transitive(proof2, proof3).proof\n",
    "print(proof4.prop)"
   ]
  },
  {
   "cell_type": "code",
   "execution_count": 1,
   "metadata": {},
   "outputs": [],
   "source": [
    "colors = ['red', 'blue']\n",
    "\n",
    "def axiom1(f2, c1, c2):\n",
    "  return f2(c1, f2(c2, c1))\n",
    "\n",
    "def axiom2(f2, c1, c2, c3):\n",
    "  return f2(f2(c1, f2(c2, c3)), f2(f2(c1, c2), f2(c1, c3)))\n",
    "\n",
    "def axiom3(f1, f2, c1, c2):\n",
    "  return f2(f2(f1(c1), f1(c2)), f2(f2(f1(c1), c2), c1))\n",
    "\n",
    "def checkAxiom1(f2, trueColor):\n",
    "  for c1 in colors:\n",
    "    for c2 in colors:\n",
    "      c = axiom1(f2, c1, c2)\n",
    "      if c != trueColor:\n",
    "        return False\n",
    "  return True\n",
    "\n",
    "def checkAxiom2(f2, trueColor):\n",
    "  for c1 in colors:\n",
    "    for c2 in colors:\n",
    "      for c3 in colors:\n",
    "        c = axiom2(f2, c1, c2, c3)\n",
    "        if c != trueColor:\n",
    "          return False\n",
    "  return True\n",
    "\n",
    "def checkAxiom3(f1, f2, trueColor):\n",
    "  for c1 in colors:\n",
    "    for c2 in colors:\n",
    "      c = axiom3(f1, f2, c1, c2)\n",
    "      if c != trueColor:\n",
    "        return False\n",
    "  return True\n",
    "\n",
    "def checkMP(f2, trueColor):\n",
    "  for c1 in colors:\n",
    "    for c2 in colors:\n",
    "      if c1 == trueColor and f2(c1, c2) == trueColor:\n",
    "        if c2 != trueColor:\n",
    "          return False\n",
    "  return True\n",
    "\n",
    "def generateF1(c1, c2):\n",
    "  def f1(x1):\n",
    "    if x1 == colors[0]:\n",
    "      return c1\n",
    "    return c2\n",
    "  return f1\n",
    "\n",
    "def generateF2(c1, c2, c3, c4):\n",
    "  def f2(x1, x2):\n",
    "    if x1 == colors[0]:\n",
    "      if x2 == colors[0]:\n",
    "        return c1\n",
    "      return c2\n",
    "    if x2 == colors[0]:\n",
    "      return c3\n",
    "    return c4\n",
    "  return f2"
   ]
  },
  {
   "cell_type": "code",
   "execution_count": 8,
   "metadata": {},
   "outputs": [
    {
     "name": "stdout",
     "output_type": "stream",
     "text": [
      "red red\n",
      "blue red\n",
      "axiom123 + mp: true = red, f1 = ('blue', 'red'), f2 = ('red', 'blue', 'red', 'red')\n",
      "red blue\n",
      "blue blue\n",
      "red red\n",
      "blue red\n",
      "axiom123 + mp: true = blue, f1 = ('blue', 'red'), f2 = ('blue', 'blue', 'red', 'blue')\n",
      "red blue\n",
      "blue blue\n"
     ]
    }
   ],
   "source": [
    "for trueColor in colors:\n",
    "  for code1 in range(4):\n",
    "    c1, c2 = colors[int(bool(code1&1))], colors[int(bool(code1&2))]\n",
    "    print(c1, c2)\n",
    "    f1 = generateF1(c1, c2)\n",
    "    for code2 in range(16):\n",
    "      c3, c4, c5, c6 = colors[int(bool(code2&1))], colors[int(bool(code2&2))], colors[int(bool(code2&4))], colors[int(bool(code2&8))]\n",
    "      f2 = generateF2(c3, c4, c5, c6)\n",
    "      if checkAxiom1(f2, trueColor) and checkAxiom2(f2, trueColor) and checkAxiom3(f1, f2, trueColor) and checkMP(f2, trueColor):\n",
    "        print(f\"axiom123 + mp: true = {trueColor}, f1 = {c1, c2}, f2 = {c3, c4, c5, c6}\")"
   ]
  },
  {
   "cell_type": "code",
   "execution_count": 6,
   "metadata": {},
   "outputs": [
    {
     "name": "stdout",
     "output_type": "stream",
     "text": [
      "axiom12 + mp: true = red, f2 = ('red', 'blue', 'red', 'red')\n",
      "axiom12 + mp: true = blue, f2 = ('blue', 'blue', 'red', 'blue')\n"
     ]
    }
   ],
   "source": [
    "for trueColor in colors:\n",
    "  for code2 in range(16):\n",
    "    c1, c2, c3, c4 = colors[int(bool(code2&1))], colors[int(bool(code2&2))], colors[int(bool(code2&4))], colors[int(bool(code2&8))]\n",
    "    f2 = generateF2(c1, c2, c3, c4)\n",
    "    if checkAxiom1(f2, trueColor) and checkAxiom2(f2, trueColor) and checkMP(f2, trueColor):\n",
    "      print(f\"axiom12 + mp: true = {trueColor}, f2 = {c1, c2, c3, c4}\")"
   ]
  },
  {
   "cell_type": "code",
   "execution_count": 7,
   "metadata": {},
   "outputs": [
    {
     "name": "stdout",
     "output_type": "stream",
     "text": [
      "axiom1 + mp: true = red, f2 = ('red', 'blue', 'red', 'red')\n",
      "axiom1 + mp: true = blue, f2 = ('blue', 'blue', 'red', 'blue')\n"
     ]
    }
   ],
   "source": [
    "for trueColor in colors:\n",
    "  for code2 in range(16):\n",
    "    c1, c2, c3, c4 = colors[int(bool(code2&1))], colors[int(bool(code2&2))], colors[int(bool(code2&4))], colors[int(bool(code2&8))]\n",
    "    f2 = generateF2(c1, c2, c3, c4)\n",
    "    if checkAxiom1(f2, trueColor) and checkMP(f2, trueColor):\n",
    "      print(f\"axiom1 + mp: true = {trueColor}, f2 = {c1, c2, c3, c4}\")"
   ]
  },
  {
   "cell_type": "code",
   "execution_count": null,
   "metadata": {},
   "outputs": [],
   "source": []
  }
 ],
 "metadata": {
  "kernelspec": {
   "display_name": "Python 3.9.7 ('base')",
   "language": "python",
   "name": "python3"
  },
  "language_info": {
   "codemirror_mode": {
    "name": "ipython",
    "version": 3
   },
   "file_extension": ".py",
   "mimetype": "text/x-python",
   "name": "python",
   "nbconvert_exporter": "python",
   "pygments_lexer": "ipython3",
   "version": "3.9.7"
  },
  "orig_nbformat": 4,
  "vscode": {
   "interpreter": {
    "hash": "d6b8182e79befe819d64d6606e8b724d23fc60cd044ead846541c5a3818f5d3b"
   }
  }
 },
 "nbformat": 4,
 "nbformat_minor": 2
}
