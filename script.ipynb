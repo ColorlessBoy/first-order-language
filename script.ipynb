{
 "cells": [
  {
   "cell_type": "code",
   "execution_count": 2,
   "metadata": {},
   "outputs": [],
   "source": [
    "import sys\n",
    "sys.path.append('.')\n",
    "sys.path.append('./src')\n",
    "from prop import *\n",
    "from extprop import *\n",
    "from proof import *\n",
    "from theorem import *"
   ]
  },
  {
   "cell_type": "code",
   "execution_count": 10,
   "metadata": {},
   "outputs": [
    {
     "name": "stdout",
     "output_type": "stream",
     "text": [
      "((forall a,(a=>b))=>(a=>b))\n",
      "((a=>b)=>(exists a,(a=>b)))\n",
      "((forall a,(a=>b))=>(exists a,(a=>b)))\n"
     ]
    }
   ],
   "source": [
    "a = VarProp(Variable('a'))\n",
    "b = VarProp(Variable('b'))\n",
    "prop1 = ImplyProp(a, b)\n",
    "proof2 = Axiom4(prop1, a.variable, a.variable)\n",
    "print(proof2.prop)\n",
    "proof3 = ExistentialRule(prop1, a.variable, a.variable).proof\n",
    "print(proof3.prop)\n",
    "proof4 = Transitive(proof2, proof3).proof\n",
    "print(proof4.prop)"
   ]
  },
  {
   "cell_type": "code",
   "execution_count": null,
   "metadata": {},
   "outputs": [],
   "source": []
  }
 ],
 "metadata": {
  "kernelspec": {
   "display_name": "Python 3.9.7 ('base')",
   "language": "python",
   "name": "python3"
  },
  "language_info": {
   "codemirror_mode": {
    "name": "ipython",
    "version": 3
   },
   "file_extension": ".py",
   "mimetype": "text/x-python",
   "name": "python",
   "nbconvert_exporter": "python",
   "pygments_lexer": "ipython3",
   "version": "3.9.7"
  },
  "orig_nbformat": 4,
  "vscode": {
   "interpreter": {
    "hash": "d6b8182e79befe819d64d6606e8b724d23fc60cd044ead846541c5a3818f5d3b"
   }
  }
 },
 "nbformat": 4,
 "nbformat_minor": 2
}
