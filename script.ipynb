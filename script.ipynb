{
 "cells": [
  {
   "cell_type": "code",
   "execution_count": 1,
   "metadata": {},
   "outputs": [],
   "source": [
    "import sys\n",
    "sys.path.append('.')\n",
    "sys.path.append('./src')\n",
    "from atom import get_atom, h_imply, h_not\n",
    "from fol_atom import axiom1, axiom2, axiom3, modus_ponens as mp, assume\n",
    "from fol_lemma import *"
   ]
  },
  {
   "cell_type": "code",
   "execution_count": 3,
   "metadata": {},
   "outputs": [
    {
     "name": "stdout",
     "output_type": "stream",
     "text": [
      "h_imply(a, h_imply(h_not(b), h_not(h_imply(a, b))))\n"
     ]
    }
   ],
   "source": [
    "a = get_atom('a')\n",
    "b = get_atom('b')\n",
    "x1 = lemma1(h_imply(a, b))\n",
    "x2 = lemma4(x1)\n",
    "x3 = lemma11(h_imply(a, b), b)\n",
    "s = lemma3(x2, x3)\n",
    "print(s.getAtom())"
   ]
  },
  {
   "cell_type": "code",
   "execution_count": null,
   "metadata": {},
   "outputs": [],
   "source": []
  }
 ],
 "metadata": {
  "interpreter": {
   "hash": "d6b8182e79befe819d64d6606e8b724d23fc60cd044ead846541c5a3818f5d3b"
  },
  "kernelspec": {
   "display_name": "Python 3.9.7 ('base')",
   "language": "python",
   "name": "python3"
  },
  "language_info": {
   "codemirror_mode": {
    "name": "ipython",
    "version": 3
   },
   "file_extension": ".py",
   "mimetype": "text/x-python",
   "name": "python",
   "nbconvert_exporter": "python",
   "pygments_lexer": "ipython3",
   "version": "3.10.0"
  },
  "orig_nbformat": 4
 },
 "nbformat": 4,
 "nbformat_minor": 2
}
