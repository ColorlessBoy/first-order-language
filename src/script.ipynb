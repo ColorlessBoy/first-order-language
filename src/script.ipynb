{
 "cells": [
  {
   "cell_type": "code",
   "execution_count": 1,
   "metadata": {},
   "outputs": [],
   "source": [
    "from atom import get_atom, h_imply, h_not\n",
    "from fol_atom import axiom1, axiom2, axiom3, modus_ponens as mp, assume\n",
    "from fol_lemma import lemma6"
   ]
  },
  {
   "cell_type": "code",
   "execution_count": 5,
   "metadata": {},
   "outputs": [
    {
     "name": "stdout",
     "output_type": "stream",
     "text": [
      "ModusPonens[ModusPonens[Assume[b], Axiom1[b, a]], ModusPonens[ModusPonens[ModusPonens[Axiom1[a, a], ModusPonens[Axiom1[a, h_imply(a, a)], Axiom2[a, h_imply(a, a), a]]], ModusPonens[ModusPonens[Assume[h_imply(a, h_imply(b, c))], Axiom1[h_imply(a, h_imply(b, c)), a]], Axiom2[a, a, h_imply(b, c)]]], Axiom2[a, b, c]]]\n"
     ]
    }
   ],
   "source": [
    "a = get_atom('a')\n",
    "b = get_atom('b')\n",
    "c = get_atom('c')\n",
    "\n",
    "x = assume(h_imply(a, h_imply(b, c)))\n",
    "y = assume(b)\n",
    "\n",
    "z = assume(x.getAtom().next[0])\n",
    "w = mp(y, mp(z, x))\n",
    "s = lemma6(z, w)\n",
    "\n",
    "print(s.getFolAtom())\n"
   ]
  },
  {
   "cell_type": "code",
   "execution_count": null,
   "metadata": {},
   "outputs": [],
   "source": []
  }
 ],
 "metadata": {
  "interpreter": {
   "hash": "d6b8182e79befe819d64d6606e8b724d23fc60cd044ead846541c5a3818f5d3b"
  },
  "kernelspec": {
   "display_name": "Python 3.9.7 ('base')",
   "language": "python",
   "name": "python3"
  },
  "language_info": {
   "codemirror_mode": {
    "name": "ipython",
    "version": 3
   },
   "file_extension": ".py",
   "mimetype": "text/x-python",
   "name": "python",
   "nbconvert_exporter": "python",
   "pygments_lexer": "ipython3",
   "version": "3.10.0"
  },
  "orig_nbformat": 4
 },
 "nbformat": 4,
 "nbformat_minor": 2
}
