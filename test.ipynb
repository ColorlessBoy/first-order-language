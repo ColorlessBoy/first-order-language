{
 "cells": [
  {
   "cell_type": "code",
   "execution_count": 1,
   "metadata": {},
   "outputs": [],
   "source": [
    "from atom import  get_atom, h_imply, h_not\n",
    "from fol_atom import axiom1, axiom2, axiom3, modus_ponens as mp\n",
    "from fol_lemma import lemma1, lemma2"
   ]
  },
  {
   "cell_type": "code",
   "execution_count": 2,
   "metadata": {},
   "outputs": [
    {
     "name": "stdout",
     "output_type": "stream",
     "text": [
      "FolAtom: h_imply(a,h_imply(b,a))\n",
      "FolAtom: h_imply(h_imply(a,h_imply(b,a)),h_imply(h_imply(a,b),h_imply(a,a)))\n",
      "FolAtom: h_imply(h_imply(a,b),h_imply(a,a))\n",
      "FolAtom: h_imply(a,a)\n",
      "FolAtom: h_imply(h_imply(h_not(a),a),a)\n"
     ]
    }
   ],
   "source": [
    "a = get_atom('a')\n",
    "b = get_atom('b')\n",
    "\n",
    "c = axiom1(a, b)\n",
    "print(c)\n",
    "\n",
    "d = axiom2(a, b, a)\n",
    "print(d)\n",
    "\n",
    "e = mp(c, d)\n",
    "print(e)\n",
    "\n",
    "f = lemma1(a)\n",
    "print(f)\n",
    "\n",
    "g = lemma2(a)\n",
    "print(g)"
   ]
  },
  {
   "cell_type": "code",
   "execution_count": 3,
   "metadata": {},
   "outputs": [
    {
     "name": "stdout",
     "output_type": "stream",
     "text": [
      "FolAtom: h_imply(a,c)\n"
     ]
    }
   ],
   "source": [
    "from atom import  get_atom \n",
    "from fol_atom import FolAtom\n",
    "from fol_lemma import lemma3\n",
    "a = get_atom('a')\n",
    "b = get_atom('b')\n",
    "c = get_atom('c')\n",
    "x = FolAtom(h_imply(a, b))\n",
    "y = FolAtom(h_imply(b, c))\n",
    "\n",
    "z = lemma3(x, y)\n",
    "print(z)"
   ]
  },
  {
   "cell_type": "code",
   "execution_count": 4,
   "metadata": {},
   "outputs": [
    {
     "name": "stdout",
     "output_type": "stream",
     "text": [
      "FolAtom: h_imply(b,h_imply(a,c))\n"
     ]
    }
   ],
   "source": [
    "from fol_lemma import lemma4\n",
    "a = get_atom('a')\n",
    "b = get_atom('b')\n",
    "c = get_atom('c')\n",
    "x = FolAtom(h_imply(a, h_imply(b, c)))\n",
    "\n",
    "print(lemma4(x))"
   ]
  },
  {
   "cell_type": "code",
   "execution_count": 5,
   "metadata": {},
   "outputs": [
    {
     "name": "stdout",
     "output_type": "stream",
     "text": [
      "FolAtom: h_imply(h_imply(h_not(a),h_not(b)),h_imply(b,a))\n"
     ]
    }
   ],
   "source": [
    "from fol_lemma import lemma5\n",
    "print(lemma5(a, b))"
   ]
  },
  {
   "cell_type": "code",
   "execution_count": null,
   "metadata": {},
   "outputs": [],
   "source": []
  }
 ],
 "metadata": {
  "interpreter": {
   "hash": "d6b8182e79befe819d64d6606e8b724d23fc60cd044ead846541c5a3818f5d3b"
  },
  "kernelspec": {
   "display_name": "Python 3.9.7 ('base')",
   "language": "python",
   "name": "python3"
  },
  "language_info": {
   "codemirror_mode": {
    "name": "ipython",
    "version": 3
   },
   "file_extension": ".py",
   "mimetype": "text/x-python",
   "name": "python",
   "nbconvert_exporter": "python",
   "pygments_lexer": "ipython3",
   "version": "3.10.0"
  },
  "orig_nbformat": 4
 },
 "nbformat": 4,
 "nbformat_minor": 2
}
